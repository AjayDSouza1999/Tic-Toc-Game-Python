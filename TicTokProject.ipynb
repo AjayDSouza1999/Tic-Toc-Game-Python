{
 "cells": [
  {
   "cell_type": "code",
   "execution_count": 2,
   "id": "344c6c8e",
   "metadata": {},
   "outputs": [
    {
     "name": "stdout",
     "output_type": "stream",
     "text": [
      "   |     |    |\n",
      "1  | 2   | 3  |\n",
      "   |     |    |\n",
      "-----------------\n",
      "   |     |    |\n",
      "5  | 6   | 7  |\n",
      "   |     |    |\n",
      "-----------------\n",
      "   |     |    |\n",
      "9  | 10  | 11 |\n",
      "   |     |    |\n"
     ]
    }
   ],
   "source": [
    "for i in range(11):\n",
    "    if(i==3 or i==7):\n",
    "        print(\"-----------------\")\n",
    "    elif(i==1 or i==5):\n",
    "        print(i,\" |\", i+1,\"  |\",i+2,\" |\")\n",
    "    elif(i==9):\n",
    "        print(i,\" |\",i+1,\" |\",i+2,\"|\")\n",
    "    else:\n",
    "        print(\"   |     |    |\")\n",
    "    "
   ]
  },
  {
   "cell_type": "code",
   "execution_count": null,
   "id": "8a7a477a",
   "metadata": {},
   "outputs": [],
   "source": []
  }
 ],
 "metadata": {
  "kernelspec": {
   "display_name": "Python 3 (ipykernel)",
   "language": "python",
   "name": "python3"
  },
  "language_info": {
   "codemirror_mode": {
    "name": "ipython",
    "version": 3
   },
   "file_extension": ".py",
   "mimetype": "text/x-python",
   "name": "python",
   "nbconvert_exporter": "python",
   "pygments_lexer": "ipython3",
   "version": "3.10.9"
  }
 },
 "nbformat": 4,
 "nbformat_minor": 5
}
